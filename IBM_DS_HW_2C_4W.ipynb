{
  "cells": [
    {
      "cell_type": "markdown",
      "metadata": {
        "id": "view-in-github",
        "colab_type": "text"
      },
      "source": [
        "<a href=\"https://colab.research.google.com/github/jmolsr/datasciencecoursera/blob/master/IBM_DS_HW_2C_4W.ipynb\" target=\"_parent\"><img src=\"https://colab.research.google.com/assets/colab-badge.svg\" alt=\"Open In Colab\"/></a>"
      ]
    },
    {
      "cell_type": "markdown",
      "metadata": {
        "collapsed": true,
        "id": "bmCkJhv2OFhg"
      },
      "source": [
        "# My Jupyter Notebook on IBM Watson Studio"
      ]
    },
    {
      "cell_type": "markdown",
      "metadata": {
        "id": "t537vs--OFho"
      },
      "source": [
        "** Juan Manuel Osobampo López. **   \n",
        "Emergency  room doctor. "
      ]
    },
    {
      "cell_type": "markdown",
      "metadata": {
        "id": "Hii6el4QOFhq"
      },
      "source": [
        "* My interest in data science is based on the conviction that information is power. the information in turn is based on data that can be obtained from all the things and activities that we carry out. This knowledge obtained will allow us to prevent, diagnose or cure diseases that we do not yet understand. *"
      ]
    },
    {
      "cell_type": "markdown",
      "metadata": {
        "id": "RY1gPEhBOFhr"
      },
      "source": [
        "The next code cell shows a simple Python *print* function"
      ]
    },
    {
      "cell_type": "code",
      "source": [
        "print(\"1 + 1 = \", 1 + 1)"
      ],
      "metadata": {
        "colab": {
          "base_uri": "https://localhost:8080/"
        },
        "id": "xyfguK8zuVIT",
        "outputId": "6234b52f-7fac-43b7-fc7f-4f91e5ca4312"
      },
      "execution_count": 1,
      "outputs": [
        {
          "output_type": "stream",
          "name": "stdout",
          "text": [
            "1 + 1 =  2\n"
          ]
        }
      ]
    },
    {
      "cell_type": "markdown",
      "source": [
        "## This cell shows different characteristics in MarkDown language.\n",
        "----------   \n"
      ],
      "metadata": {
        "id": "aF-h0-apu9wV"
      }
    }
  ],
  "metadata": {
    "kernelspec": {
      "display_name": "Python 3.9",
      "language": "python",
      "name": "python3"
    },
    "language_info": {
      "codemirror_mode": {
        "name": "ipython",
        "version": 3
      },
      "file_extension": ".py",
      "mimetype": "text/x-python",
      "name": "python",
      "nbconvert_exporter": "python",
      "pygments_lexer": "ipython3",
      "version": "3.9.7"
    },
    "colab": {
      "name": "IBM DS HW 2C 4W.ipynb",
      "provenance": [],
      "collapsed_sections": [],
      "include_colab_link": true
    }
  },
  "nbformat": 4,
  "nbformat_minor": 0
}